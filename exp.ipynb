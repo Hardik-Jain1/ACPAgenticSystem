{
 "cells": [
  {
   "cell_type": "code",
   "execution_count": 2,
   "id": "a72aaf6e",
   "metadata": {},
   "outputs": [
    {
     "name": "stderr",
     "output_type": "stream",
     "text": [
      "d:\\Learnings\\Agentic AI\\Resources from ACP Course DeepLearning.AI\\GitHub\\ACPAgenticSystem\\.venv\\Lib\\site-packages\\pydantic\\fields.py:1093: PydanticDeprecatedSince20: Using extra keyword arguments on `Field` is deprecated and will be removed. Use `json_schema_extra` instead. (Extra keys: 'required'). Deprecated in Pydantic V2.0 to be removed in V3.0. See Pydantic V2 Migration Guide at https://errors.pydantic.dev/2.11/migration/\n",
      "  warn(\n"
     ]
    }
   ],
   "source": [
    "from crewai import Crew, Agent, Task, LLM\n",
    "from crewai_tools import RagTool"
   ]
  },
  {
   "cell_type": "code",
   "execution_count": 7,
   "id": "3569520d",
   "metadata": {},
   "outputs": [
    {
     "name": "stdout",
     "output_type": "stream",
     "text": [
      "\u001b[31mInit signature:\u001b[39m\n",
      "Crew(\n",
      "    *,\n",
      "    parent_flow: Optional[Annotated[crewai.flow.flow.Flow, InstanceOf()]] = \u001b[38;5;28;01mNone\u001b[39;00m,\n",
      "    name: Optional[str] = \u001b[33m'crew'\u001b[39m,\n",
      "    cache: bool = \u001b[38;5;28;01mTrue\u001b[39;00m,\n",
      "    tasks: List[crewai.task.Task] = <factory>,\n",
      "    agents: List[crewai.agents.agent_builder.base_agent.BaseAgent] = <factory>,\n",
      "    process: crewai.process.Process = <Process.sequential: \u001b[33m'sequential'\u001b[39m>,\n",
      "    verbose: bool = \u001b[38;5;28;01mFalse\u001b[39;00m,\n",
      "    memory: bool = \u001b[38;5;28;01mFalse\u001b[39;00m,\n",
      "    short_term_memory: Optional[Annotated[crewai.memory.short_term.short_term_memory.ShortTermMemory, InstanceOf()]] = \u001b[38;5;28;01mNone\u001b[39;00m,\n",
      "    long_term_memory: Optional[Annotated[crewai.memory.long_term.long_term_memory.LongTermMemory, InstanceOf()]] = \u001b[38;5;28;01mNone\u001b[39;00m,\n",
      "    entity_memory: Optional[Annotated[crewai.memory.entity.entity_memory.EntityMemory, InstanceOf()]] = \u001b[38;5;28;01mNone\u001b[39;00m,\n",
      "    external_memory: Optional[Annotated[crewai.memory.external.external_memory.ExternalMemory, InstanceOf()]] = \u001b[38;5;28;01mNone\u001b[39;00m,\n",
      "    embedder: Optional[dict] = \u001b[38;5;28;01mNone\u001b[39;00m,\n",
      "    usage_metrics: Optional[crewai.types.usage_metrics.UsageMetrics] = \u001b[38;5;28;01mNone\u001b[39;00m,\n",
      "    manager_llm: Union[str, Annotated[crewai.llms.base_llm.BaseLLM, InstanceOf()], Any, NoneType] = \u001b[38;5;28;01mNone\u001b[39;00m,\n",
      "    manager_agent: Optional[crewai.agents.agent_builder.base_agent.BaseAgent] = \u001b[38;5;28;01mNone\u001b[39;00m,\n",
      "    function_calling_llm: Union[str, Annotated[crewai.llm.LLM, InstanceOf()], Any, NoneType] = \u001b[38;5;28;01mNone\u001b[39;00m,\n",
      "    config: Union[pydantic.types.Json, Dict[str, Any], NoneType] = \u001b[38;5;28;01mNone\u001b[39;00m,\n",
      "    id: typing.Annotated[uuid.UUID, UuidVersion(uuid_version=\u001b[32m4\u001b[39m)] = <factory>,\n",
      "    share_crew: Optional[bool] = \u001b[38;5;28;01mFalse\u001b[39;00m,\n",
      "    step_callback: Optional[Any] = \u001b[38;5;28;01mNone\u001b[39;00m,\n",
      "    task_callback: Optional[Any] = \u001b[38;5;28;01mNone\u001b[39;00m,\n",
      "    before_kickoff_callbacks: List[Callable[[Optional[Dict[str, Any]]], Optional[Dict[str, Any]]]] = <factory>,\n",
      "    after_kickoff_callbacks: List[Callable[[crewai.crews.crew_output.CrewOutput], crewai.crews.crew_output.CrewOutput]] = <factory>,\n",
      "    max_rpm: Optional[int] = \u001b[38;5;28;01mNone\u001b[39;00m,\n",
      "    prompt_file: Optional[str] = \u001b[38;5;28;01mNone\u001b[39;00m,\n",
      "    output_log_file: Union[bool, str, NoneType] = \u001b[38;5;28;01mNone\u001b[39;00m,\n",
      "    planning: Optional[bool] = \u001b[38;5;28;01mFalse\u001b[39;00m,\n",
      "    planning_llm: Union[str, Annotated[crewai.llms.base_llm.BaseLLM, InstanceOf()], Any, NoneType] = \u001b[38;5;28;01mNone\u001b[39;00m,\n",
      "    task_execution_output_json_files: Optional[List[str]] = \u001b[38;5;28;01mNone\u001b[39;00m,\n",
      "    execution_logs: List[Dict[str, Any]] = [],\n",
      "    knowledge_sources: Optional[List[crewai.knowledge.source.base_knowledge_source.BaseKnowledgeSource]] = \u001b[38;5;28;01mNone\u001b[39;00m,\n",
      "    chat_llm: Union[str, Annotated[crewai.llms.base_llm.BaseLLM, InstanceOf()], Any, NoneType] = \u001b[38;5;28;01mNone\u001b[39;00m,\n",
      "    knowledge: Optional[crewai.knowledge.knowledge.Knowledge] = \u001b[38;5;28;01mNone\u001b[39;00m,\n",
      "    security_config: crewai.security.security_config.SecurityConfig = <factory>,\n",
      "    token_usage: Optional[crewai.types.usage_metrics.UsageMetrics] = \u001b[38;5;28;01mNone\u001b[39;00m,\n",
      ") -> \u001b[38;5;28;01mNone\u001b[39;00m\n",
      "\u001b[31mDocstring:\u001b[39m     \n",
      "Represents a group of agents, defining how they should collaborate and the tasks they should perform.\n",
      "\n",
      "Attributes:\n",
      "    tasks: List of tasks assigned to the crew.\n",
      "    agents: List of agents part of this crew.\n",
      "    manager_llm: The language model that will run manager agent.\n",
      "    manager_agent: Custom agent that will be used as manager.\n",
      "    memory: Whether the crew should use memory to store memories of it's execution.\n",
      "    cache: Whether the crew should use a cache to store the results of the tools execution.\n",
      "    function_calling_llm: The language model that will run the tool calling for all the agents.\n",
      "    process: The process flow that the crew will follow (e.g., sequential, hierarchical).\n",
      "    verbose: Indicates the verbosity level for logging during execution.\n",
      "    config: Configuration settings for the crew.\n",
      "    max_rpm: Maximum number of requests per minute for the crew execution to be respected.\n",
      "    prompt_file: Path to the prompt json file to be used for the crew.\n",
      "    id: A unique identifier for the crew instance.\n",
      "    task_callback: Callback to be executed after each task for every agents execution.\n",
      "    step_callback: Callback to be executed after each step for every agents execution.\n",
      "    share_crew: Whether you want to share the complete crew information and execution with crewAI to make the library better, and allow us to train models.\n",
      "    planning: Plan the crew execution and add the plan to the crew.\n",
      "    chat_llm: The language model used for orchestrating chat interactions with the crew.\n",
      "    security_config: Security configuration for the crew, including fingerprinting.\n",
      "\u001b[31mInit docstring:\u001b[39m\n",
      "Create a new model by parsing and validating input data from keyword arguments.\n",
      "\n",
      "Raises [`ValidationError`][pydantic_core.ValidationError] if the input data cannot be\n",
      "validated to form a valid model.\n",
      "\n",
      "`self` is explicitly positional-only to allow `self` as a field name.\n",
      "\u001b[31mFile:\u001b[39m           d:\\learnings\\agentic ai\\resources from acp course deeplearning.ai\\github\\acpagenticsystem\\.venv\\lib\\site-packages\\crewai\\crew.py\n",
      "\u001b[31mType:\u001b[39m           ModelMetaclass\n",
      "\u001b[31mSubclasses:\u001b[39m     "
     ]
    }
   ],
   "source": [
    "?Crew"
   ]
  },
  {
   "cell_type": "code",
   "execution_count": null,
   "id": "2f8be1ce",
   "metadata": {},
   "outputs": [],
   "source": []
  }
 ],
 "metadata": {
  "kernelspec": {
   "display_name": "ACPAgenticSystem (3.12.9)",
   "language": "python",
   "name": "python3"
  },
  "language_info": {
   "codemirror_mode": {
    "name": "ipython",
    "version": 3
   },
   "file_extension": ".py",
   "mimetype": "text/x-python",
   "name": "python",
   "nbconvert_exporter": "python",
   "pygments_lexer": "ipython3",
   "version": "3.11.9"
  }
 },
 "nbformat": 4,
 "nbformat_minor": 5
}
